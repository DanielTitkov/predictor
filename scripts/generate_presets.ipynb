{
 "cells": [
  {
   "cell_type": "code",
   "execution_count": 1,
   "id": "27b6fc2f",
   "metadata": {},
   "outputs": [],
   "source": [
    "import randomname\n",
    "import json\n",
    "import random\n",
    "import time\n",
    "import string\n",
    "from essential_generators import DocumentGenerator"
   ]
  },
  {
   "cell_type": "code",
   "execution_count": 2,
   "id": "e06af2d1",
   "metadata": {},
   "outputs": [],
   "source": [
    "USERS = 50\n",
    "ACTIVE_CHALLENGES = 20\n",
    "FINISHED_CHALLENGES = 50\n",
    "VOTE_PERC = 0.4\n",
    "OUT_PATH = \"../data/presets/\""
   ]
  },
  {
   "cell_type": "code",
   "execution_count": 3,
   "id": "560a7aa9",
   "metadata": {},
   "outputs": [
    {
     "name": "stdout",
     "output_type": "stream",
     "text": [
      "CPU times: user 78.4 ms, sys: 2.85 ms, total: 81.3 ms\n",
      "Wall time: 90.8 ms\n"
     ]
    }
   ],
   "source": [
    "%%time\n",
    "\n",
    "# generate users\n",
    "#     {\n",
    "#         \"name\": \"Test 1\",\n",
    "#         \"email\": \"test1@foo.bar\",\n",
    "#         \"password\": \"test\"\n",
    "#     }\n",
    "\n",
    "users = []\n",
    "\n",
    "for i in range(USERS):\n",
    "    user = {\n",
    "        \"name\": randomname.get_name(),\n",
    "        \"email\": f'test{i}@test.com',\n",
    "        \"password\": \"test\",\n",
    "    }\n",
    "    users.append(user)"
   ]
  },
  {
   "cell_type": "code",
   "execution_count": 4,
   "id": "1349b1ca",
   "metadata": {},
   "outputs": [],
   "source": [
    "def str_time_prop(start, end, time_format, prop):\n",
    "    stime = time.mktime(time.strptime(start, time_format))\n",
    "    etime = time.mktime(time.strptime(end, time_format))\n",
    "    ptime = stime + prop * (etime - stime)\n",
    "    return time.strftime(time_format, time.localtime(ptime))\n",
    "\n",
    "\n",
    "def random_date(start, end, prop):\n",
    "    return str_time_prop(start, end, '%Y-%m-%d', prop)"
   ]
  },
  {
   "cell_type": "code",
   "execution_count": 5,
   "id": "2b023446",
   "metadata": {},
   "outputs": [
    {
     "name": "stdout",
     "output_type": "stream",
     "text": [
      "CPU times: user 1.65 s, sys: 251 ms, total: 1.9 s\n",
      "Wall time: 1.91 s\n"
     ]
    }
   ],
   "source": [
    "%%time\n",
    "\n",
    "# generate challenges\n",
    "#   {\n",
    "#     \"type\": \"bool\",\n",
    "#     \"content\": \"Победит ли Украина Россию?\",\n",
    "#     \"description\": \"Одержит ли Украина победу в противостоянии с Россией?\",\n",
    "#     \"startTime\": \"2022-02-24\",\n",
    "#     \"endTime\": \"2022-04-01\",\n",
    "#     \"timeLayout\": \"2006-01-02\"\n",
    "#   }\n",
    "\n",
    "active_challenges = []\n",
    "finished_challenges = []\n",
    "\n",
    "gen = DocumentGenerator()\n",
    "\n",
    "for i in range(ACTIVE_CHALLENGES):\n",
    "    ch = {\n",
    "        \"type\": \"bool\",\n",
    "        \"content\": gen.sentence(),\n",
    "        \"description\": \"Думаете ли вы что это верно? Test active\",\n",
    "        \"startTime\": random_date(\"2022-02-01\", \"2022-03-25\", random.random()),\n",
    "        \"endTime\": random_date(\"2023-01-01\", \"2023-12-30\", random.random()),\n",
    "        \"timeLayout\": \"2006-01-02\"\n",
    "    }\n",
    "    active_challenges.append(ch)\n",
    "    \n",
    "for i in range(FINISHED_CHALLENGES):\n",
    "    ch = {\n",
    "        \"type\": \"bool\",\n",
    "        \"content\": gen.sentence(),\n",
    "        \"description\": \"Думаете ли вы что это верно? Test finished\",\n",
    "        \"startTime\": random_date(\"2021-02-01\", \"2021-03-25\", random.random()),\n",
    "        \"endTime\": random_date(\"2022-01-01\", \"2022-03-12\", random.random()),\n",
    "        \"timeLayout\": \"2006-01-02\",\n",
    "        \"outcome\": random.choice([True, False])\n",
    "    }\n",
    "    finished_challenges.append(ch)\n",
    "    \n",
    "challenges = active_challenges + finished_challenges"
   ]
  },
  {
   "cell_type": "code",
   "execution_count": 6,
   "id": "f5a27cd9",
   "metadata": {},
   "outputs": [
    {
     "name": "stdout",
     "output_type": "stream",
     "text": [
      "generated predictions: 1369\n",
      "CPU times: user 9.63 ms, sys: 274 µs, total: 9.9 ms\n",
      "Wall time: 9.83 ms\n"
     ]
    }
   ],
   "source": [
    "%%time\n",
    "\n",
    "# generate predictions\n",
    "#     {\n",
    "#         \"userEmail\": \"test1@foo.bar\",\n",
    "#         \"challengeContent\": \"Россия нападёт на Украину\",\n",
    "#         \"prognosis\": true\n",
    "#     }\n",
    "\n",
    "predictions = []\n",
    "\n",
    "for user in users: \n",
    "    for ch in challenges:\n",
    "        # some users may skip some challenges\n",
    "        if random.random() < VOTE_PERC:\n",
    "            pred = {\n",
    "                \"userEmail\": user[\"email\"],\n",
    "                \"challengeContent\": ch[\"content\"],\n",
    "                \"prognosis\": random.choice([True, False]),\n",
    "            }\n",
    "            predictions.append(pred)\n",
    "            \n",
    "print(\"generated predictions:\", len(predictions))"
   ]
  },
  {
   "cell_type": "code",
   "execution_count": 7,
   "id": "502af97b",
   "metadata": {},
   "outputs": [
    {
     "name": "stdout",
     "output_type": "stream",
     "text": [
      "CPU times: user 6.78 ms, sys: 0 ns, total: 6.78 ms\n",
      "Wall time: 6.76 ms\n"
     ]
    }
   ],
   "source": [
    "%%time\n",
    "\n",
    "def save_file(file, data):\n",
    "    with open(OUT_PATH + file, 'w', encoding='utf8') as out:\n",
    "        json.dump(data, out, indent=2, ensure_ascii=False)\n",
    "    \n",
    "save_file('users_auto.json', users)\n",
    "save_file('challenges_auto.json', challenges)\n",
    "save_file('predictions_auto.json', predictions)"
   ]
  }
 ],
 "metadata": {
  "kernelspec": {
   "display_name": "Python 3 (ipykernel)",
   "language": "python",
   "name": "python3"
  },
  "language_info": {
   "codemirror_mode": {
    "name": "ipython",
    "version": 3
   },
   "file_extension": ".py",
   "mimetype": "text/x-python",
   "name": "python",
   "nbconvert_exporter": "python",
   "pygments_lexer": "ipython3",
   "version": "3.9.7"
  }
 },
 "nbformat": 4,
 "nbformat_minor": 5
}
